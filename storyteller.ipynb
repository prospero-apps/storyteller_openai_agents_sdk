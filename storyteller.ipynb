{
 "cells": [
  {
   "cell_type": "markdown",
   "id": "b7705180",
   "metadata": {},
   "source": [
    "# Story Teller"
   ]
  },
  {
   "cell_type": "code",
   "execution_count": 2,
   "id": "6469dc8c",
   "metadata": {},
   "outputs": [],
   "source": [
    "from dotenv import load_dotenv\n",
    "from agents import Agent, Runner, trace, function_tool\n",
    "from openai.types.responses import ResponseTextDeltaEvent\n",
    "from typing import Dict\n",
    "import requests\n",
    "import os\n",
    "import asyncio"
   ]
  },
  {
   "cell_type": "code",
   "execution_count": 3,
   "id": "be057f6a",
   "metadata": {},
   "outputs": [
    {
     "data": {
      "text/plain": [
       "True"
      ]
     },
     "execution_count": 3,
     "metadata": {},
     "output_type": "execute_result"
    }
   ],
   "source": [
    "load_dotenv(override=True)"
   ]
  },
  {
   "cell_type": "markdown",
   "id": "fd109fcb",
   "metadata": {},
   "source": [
    "## Agents"
   ]
  },
  {
   "cell_type": "code",
   "execution_count": 4,
   "id": "c384b33a",
   "metadata": {},
   "outputs": [],
   "source": [
    "instructions_place = \"\"\"\n",
    "You are a story-telling agent responsible for picking the place where the story is set. This is your only task, you just provide\n",
    "a location and nothing more. The location can be a real geographical place, like for example 'Japan', 'New York' or 'the Alps', but it can \n",
    "be also a fictitious place like for example 'the Lake of Doom', 'the Deserted Mountains' or something like that. Another option is\n",
    "to deliver just a general name like for example 'the big city behind the forest' or 'a little cozy village at the foot of the big mountain'.\n",
    "You can create a descriptive name like this or just return a simple one-word name. Do not add any explanation or comments, just deliver the name\n",
    "of the place as a word or short expression.\n",
    "\"\"\"\n",
    "\n",
    "instructions_time = \"\"\"\n",
    "You are a story-telling agent responsible for picking the time where the story is set. This is your only task, you just provide\n",
    "a time and nothing more. The time can be a date, like for example 'October 14, 2014', '1945-08-20' or 'May of 2020', but it can \n",
    "be also an expression containing a real historical event, like for example 'during the second world war', 'before the island was invaded by the Vikings', \n",
    "or something like that. Another option is to deliver just a general time expression like for example 'at the beginning of summer' or \n",
    "'when dinosaurs ruled the world'. You can create a descriptive time expression like this or just return a simple date. Do not add any explanation \n",
    "or comments, just deliver the time as a date or short time expression.\n",
    "\"\"\"\n",
    "\n",
    "instructions_characters = \"\"\"\n",
    "You are a story-telling agent responsible for picking the characters featured in the story. This is your only task, you just provide\n",
    "a list of characters and nothing more. The list should contain between one and three characters, no more. The characters can be names,\n",
    "like for example 'George', 'Anne Wilson' or 'Mr. Smith', but they can be also general terms like 'a girl', 'a young man' or something like that. \n",
    "If there are more than 1 character, you can use terms showing their relationships with the first character. Such a list could look like so:\n",
    "['little John', 'his sister', 'their mother']. You can also use collective characters like 'his friends', 'the army' or 'French people'.\n",
    "You can create a descriptive name like this or just return a simple one-word name for each character. Do not add any explanation or comments, \n",
    "just deliver the list of 1-3 characters.\n",
    "\"\"\"\n",
    "\n",
    "instructions_items = \"\"\"\n",
    "You are a story-telling agent responsible for picking the items used in the story. This is your only task, you just provide\n",
    "a list of items and nothing more. The list should contain between one and three items, no more. The characters can be names of animals, plants,\n",
    "or any other objects, like for example 'an elephant', 'a palm tree' or 'a car', but they can be also more descriptive names like 'an old red bicycle', \n",
    "'a beautiful building', 'one of the strangest animals that you can imagine', or something like that. \n",
    "If there are more than 1 item, you can use terms showing their relationships with the first item. Such a list could look like so:\n",
    "['an old castle', 'its tallest tower', 'its roof']. You can also use plural or collective items like 'rats', 'fruit and vegetables', \n",
    "or 'a bunch of keys'. You can create a descriptive name like this or just return a simple one-word name for each item. Do not add any explanation \n",
    "or comments, just deliver the list of 1-3 items.\n",
    "\"\"\"\n",
    "\n",
    "instructions_mood = \"\"\"\n",
    "You are a story-telling agent responsible for picking the mood for the story. This is your only task, you just provide\n",
    "the mood and nothing more. The mood can be a simple adjective, like for example 'hilarious', 'sad' or 'emotional', but it can \n",
    "be also a noun like for example 'comedy', 'fun', 'terror', or something like that. Another option is to deliver a description \n",
    "of the mood like for example 'cheerful at the beginning, but then turning sad' or 'neither cheerful nor sad'.\n",
    "You can create a descriptive term like this or just return a single word. Do not add any explanation or comments, just deliver the word or \n",
    "expression determining the mood of the story.\n",
    "\"\"\""
   ]
  },
  {
   "cell_type": "code",
   "execution_count": 5,
   "id": "273abf90",
   "metadata": {},
   "outputs": [],
   "source": [
    "place_agent = Agent(\n",
    "    name=\"Storytelling Place Agent\",\n",
    "    instructions=instructions_place,\n",
    "    model=\"gpt-4o-mini\"\n",
    ")\n",
    "\n",
    "time_agent = Agent(\n",
    "    name=\"Storytelling Time Agent\",\n",
    "    instructions=instructions_time,\n",
    "    model=\"gpt-4o-mini\"\n",
    ")\n",
    "\n",
    "characters_agent = Agent(\n",
    "    name=\"Storytelling Characters Agent\",\n",
    "    instructions=instructions_characters,\n",
    "    model=\"gpt-4o-mini\"\n",
    ")\n",
    "\n",
    "items_agent = Agent(\n",
    "    name=\"Storytelling Items Agent\",\n",
    "    instructions=instructions_items,\n",
    "    model=\"gpt-4o-mini\"\n",
    ")\n",
    "\n",
    "mood_agent = Agent(\n",
    "    name=\"Storytelling Mood Agent\",\n",
    "    instructions=instructions_mood,\n",
    "    model=\"gpt-4o-mini\"\n",
    ")"
   ]
  },
  {
   "cell_type": "code",
   "execution_count": 6,
   "id": "1f1624f5",
   "metadata": {},
   "outputs": [],
   "source": [
    "message = \"Create the element of the story that you're responsible for.\""
   ]
  },
  {
   "cell_type": "code",
   "execution_count": 7,
   "id": "137aca15",
   "metadata": {},
   "outputs": [
    {
     "name": "stdout",
     "output_type": "stream",
     "text": [
      "The Whispering Woods\n",
      "\n",
      "\n",
      "June of 1920\n",
      "\n",
      "\n",
      "['Eva', 'her grandfather', 'the village elder']\n",
      "\n",
      "\n",
      "['a mysterious lantern', 'a swirling fog', 'a secluded path']\n",
      "\n",
      "\n",
      "Melancholic\n",
      "\n",
      "\n"
     ]
    }
   ],
   "source": [
    "with trace(\"Parallel story elements\"):\n",
    "    results = await asyncio.gather(\n",
    "        Runner.run(place_agent, message),\n",
    "        Runner.run(time_agent, message),\n",
    "        Runner.run(characters_agent, message),\n",
    "        Runner.run(items_agent, message),\n",
    "        Runner.run(mood_agent, message)\n",
    "    )\n",
    "\n",
    "outputs = [result.final_output for result in results]\n",
    "\n",
    "for output in outputs:\n",
    "    print(output + \"\\n\\n\")"
   ]
  },
  {
   "cell_type": "markdown",
   "id": "fe3a0bda",
   "metadata": {},
   "source": [
    "## Tools"
   ]
  },
  {
   "cell_type": "code",
   "execution_count": 8,
   "id": "29bf5863",
   "metadata": {},
   "outputs": [],
   "source": [
    "RESEND_API_KEY = os.environ.get(\"RESEND_API_KEY\")"
   ]
  },
  {
   "cell_type": "code",
   "execution_count": null,
   "id": "90f31bcc",
   "metadata": {},
   "outputs": [
    {
     "name": "stdout",
     "output_type": "stream",
     "text": [
      "{\"id\":\"0bb6a987-17e2-4b90-8e73-f8a47756f6a4\"}\n"
     ]
    },
    {
     "data": {
      "text/plain": [
       "{'status': 'success'}"
      ]
     },
     "execution_count": 10,
     "metadata": {},
     "output_type": "execute_result"
    }
   ],
   "source": [
    "# check if the email is sent correctly\n",
    "def send_test_email(story: str):\n",
    "    \"\"\" Send out an email with the story using Resend \"\"\"\n",
    "    \n",
    "    # Set up email sender, recipient, and content\n",
    "    from_email = \"onboarding@resend.dev\"  \n",
    "    to_email = \"prospero.apps@gmail.com\"  \n",
    "    \n",
    "    # Resend API headers and payload\n",
    "    headers = {\n",
    "        \"Authorization\": f\"Bearer {RESEND_API_KEY}\",\n",
    "        \"Content-Type\": \"application/json\"\n",
    "    }\n",
    "    \n",
    "    payload = {\n",
    "        \"from\": f\"Prospero <{from_email}>\",\n",
    "        \"to\": [to_email],\n",
    "        \"subject\": \"Story of the Day\",\n",
    "        \"html\": f\"<p>{story}</p>\"  \n",
    "    }\n",
    "    \n",
    "    # Send email using Resend API\n",
    "    response = requests.post(\"https://api.resend.com/emails\", json=payload, headers=headers)\n",
    "    \n",
    "    # Check if the request was successful\n",
    "    print(response.text)\n",
    "    if 200 <= response.status_code < 300:\n",
    "        return {\"status\": \"success\"}\n",
    "    else:\n",
    "        return {\"status\": \"failure\", \"message\": response.text}\n",
    "\n",
    "send_test_email(\"wow, test story\")"
   ]
  },
  {
   "cell_type": "code",
   "execution_count": 27,
   "id": "f3049a9d",
   "metadata": {},
   "outputs": [],
   "source": [
    "@function_tool\n",
    "def send_email(story: str):\n",
    "    \"\"\" Send out an email with the story using Resend \"\"\"\n",
    "    \n",
    "    # Set up email sender, recipient, and content\n",
    "    from_email = \"onboarding@resend.dev\"  \n",
    "    to_email = \"prospero.apps@gmail.com\"  \n",
    "    \n",
    "    # Resend API headers and payload\n",
    "    headers = {\n",
    "        \"Authorization\": f\"Bearer {RESEND_API_KEY}\",\n",
    "        \"Content-Type\": \"application/json\"\n",
    "    }\n",
    "    \n",
    "    payload = {\n",
    "        \"from\": f\"Prospero <{from_email}>\",\n",
    "        \"to\": [to_email],\n",
    "        \"subject\": \"Story of the Day\",\n",
    "        \"html\": f\"<p>{story}</p>\"  \n",
    "    }\n",
    "    \n",
    "    try:\n",
    "        response = requests.post(\"https://api.resend.com/emails\", json=payload, headers=headers)\n",
    "        \n",
    "        if 200 <= response.status_code < 300:\n",
    "            return f\"SUCCESS: Email with content '{story}' has been sent successfully to {to_email}. Task completed.\"\n",
    "        else:\n",
    "            return f\"FAILURE: Failed to send email. Error: {response.text}. Do not retry.\"\n",
    "    except Exception as e:\n",
    "        return f\"ERROR: Exception occurred while sending email: {str(e)}. Do not retry.\""
   ]
  },
  {
   "cell_type": "code",
   "execution_count": 28,
   "id": "dd29ece0",
   "metadata": {},
   "outputs": [],
   "source": [
    "place_tool = place_agent.as_tool(tool_name=\"place_tool\", tool_description=message)\n",
    "time_tool = time_agent.as_tool(tool_name=\"time_tool\", tool_description=message)\n",
    "characters_tool = characters_agent.as_tool(tool_name=\"characters_tool\", tool_description=message)\n",
    "items_tool = items_agent.as_tool(tool_name=\"items_tool\", tool_description=message)\n",
    "mood_tool = mood_agent.as_tool(tool_name=\"mood_tool\", tool_description=message)\n",
    "\n",
    "tools = [place_tool, time_tool, characters_tool, items_tool, mood_tool, send_email]"
   ]
  },
  {
   "cell_type": "code",
   "execution_count": 29,
   "id": "b86ec710",
   "metadata": {},
   "outputs": [
    {
     "data": {
      "text/plain": [
       "[FunctionTool(name='place_tool', description=\"Create the element of the story that you're responsible for.\", params_json_schema={'properties': {'input': {'title': 'Input', 'type': 'string'}}, 'required': ['input'], 'title': 'place_tool_args', 'type': 'object', 'additionalProperties': False}, on_invoke_tool=<function function_tool.<locals>._create_function_tool.<locals>._on_invoke_tool at 0x00000182A56D1A80>, strict_json_schema=True, is_enabled=True),\n",
       " FunctionTool(name='time_tool', description=\"Create the element of the story that you're responsible for.\", params_json_schema={'properties': {'input': {'title': 'Input', 'type': 'string'}}, 'required': ['input'], 'title': 'time_tool_args', 'type': 'object', 'additionalProperties': False}, on_invoke_tool=<function function_tool.<locals>._create_function_tool.<locals>._on_invoke_tool at 0x00000182A06D4E00>, strict_json_schema=True, is_enabled=True),\n",
       " FunctionTool(name='characters_tool', description=\"Create the element of the story that you're responsible for.\", params_json_schema={'properties': {'input': {'title': 'Input', 'type': 'string'}}, 'required': ['input'], 'title': 'characters_tool_args', 'type': 'object', 'additionalProperties': False}, on_invoke_tool=<function function_tool.<locals>._create_function_tool.<locals>._on_invoke_tool at 0x00000182A409F7E0>, strict_json_schema=True, is_enabled=True),\n",
       " FunctionTool(name='items_tool', description=\"Create the element of the story that you're responsible for.\", params_json_schema={'properties': {'input': {'title': 'Input', 'type': 'string'}}, 'required': ['input'], 'title': 'items_tool_args', 'type': 'object', 'additionalProperties': False}, on_invoke_tool=<function function_tool.<locals>._create_function_tool.<locals>._on_invoke_tool at 0x00000182A462B380>, strict_json_schema=True, is_enabled=True),\n",
       " FunctionTool(name='mood_tool', description=\"Create the element of the story that you're responsible for.\", params_json_schema={'properties': {'input': {'title': 'Input', 'type': 'string'}}, 'required': ['input'], 'title': 'mood_tool_args', 'type': 'object', 'additionalProperties': False}, on_invoke_tool=<function function_tool.<locals>._create_function_tool.<locals>._on_invoke_tool at 0x00000182A4628720>, strict_json_schema=True, is_enabled=True),\n",
       " FunctionTool(name='send_email', description='Send out an email with the story using Resend', params_json_schema={'properties': {'story': {'title': 'Story', 'type': 'string'}}, 'required': ['story'], 'title': 'send_email_args', 'type': 'object', 'additionalProperties': False}, on_invoke_tool=<function function_tool.<locals>._create_function_tool.<locals>._on_invoke_tool at 0x00000182A409ED40>, strict_json_schema=True, is_enabled=True)]"
      ]
     },
     "execution_count": 29,
     "metadata": {},
     "output_type": "execute_result"
    }
   ],
   "source": [
    "tools"
   ]
  },
  {
   "cell_type": "markdown",
   "id": "1085c2fd",
   "metadata": {},
   "source": [
    "## Story Manager"
   ]
  },
  {
   "cell_type": "code",
   "execution_count": 48,
   "id": "9271bc23",
   "metadata": {},
   "outputs": [],
   "source": [
    "instructions_story = \"\"\"\n",
    "You are a story teller. Your task is to create a story using the tools in the tools list. Follow these steps carefully:\n",
    "1. Use the place_tool tool to generate the place the story is set in.\n",
    "2. Use the time_tool tool to generate the time the story is set in.\n",
    "3. Use the characters_tool tool to generate the characters that are featured in the story.\n",
    "4. Use the items_tool tool to generate the items that are are used in the story.\n",
    "5. Use the mood_tool tool to generate the mood of the story.\n",
    "\n",
    "After you have all of these, follow these steps to write the story:\n",
    "1. Before the introduction part of the story, write what the tools above have generated in the following format, now, VERY, VERY IMPORTANT: \n",
    "write each of the following elements on a separate line:\n",
    "place: here comes the place generated by place_tool\n",
    "time: here comes the time generated by time_tool\n",
    "characters: here come the characters generated by characters_tool, separated with commas\n",
    "items: here come the items generated by items_tool, separated with commas\n",
    "mood: here comes the mood generated by mood_tool\n",
    "2. Write the introduction where you say where and when the story is set and what characters are featured in the story. \n",
    "If there are more than one character, you don't have to introduce them all in this part, some of them may appear later\n",
    "in the story. The introduction should be about 50 words long.\n",
    "3. Write the main part of the story. Think of something interesting that would make a good story. Make sure the mood\n",
    "of the story that was generated before is maintained throughout the story. Also, make sure all the characters and all \n",
    "the items you generated before are used in the story in a sensical way. The story should be consistent. Also, keep in mind\n",
    "the place and time the story is set in. This may influence the chain of events in the story. This part should be between 200\n",
    "and 300 words long.\n",
    "4. Write and ending of the story, but try to make it as unexpected as you can, still keeping it sensical and consistent.\n",
    "Remember to preserve the mood all the time. The ending should be about 50 words long.\n",
    "5. Send the story to the recipient using the send_email tool.\n",
    "\n",
    "IMPORTANT INSTRUCTIONS:\n",
    "1. Use the send_email tool exactly once with the provided content\n",
    "2. After calling the tool, check the response\n",
    "3. If the response indicates SUCCESS, say \"Task completed successfully\" and STOP\n",
    "4. If the response indicates FAILURE or ERROR, report the error and STOP\n",
    "5. Do NOT retry failed email sends\n",
    "6. Do NOT call the tool multiple times\n",
    "7. Do NOT ask for confirmation before sending\n",
    "\n",
    "Your task is complete once you've called the send_email tool and reported the result.\n",
    "\"\"\""
   ]
  },
  {
   "cell_type": "code",
   "execution_count": 49,
   "id": "85b38feb",
   "metadata": {},
   "outputs": [
    {
     "name": "stdout",
     "output_type": "stream",
     "text": [
      "RunResult:\n",
      "- Last agent: Agent(name=\"Story Manager\", ...)\n",
      "- Final output (str):\n",
      "    Task completed successfully.\n",
      "- 13 new item(s)\n",
      "- 3 raw response(s)\n",
      "- 0 input guardrail result(s)\n",
      "- 0 output guardrail result(s)\n",
      "(See `RunResult` for more details)\n"
     ]
    }
   ],
   "source": [
    "story_manager = Agent(\n",
    "    name=\"Story Manager\",\n",
    "    instructions=instructions_story,\n",
    "    model=\"gpt-4o-mini\",\n",
    "    tools=tools\n",
    ")\n",
    "\n",
    "email_message = \"Send an email containing the story to the recipient.\"\n",
    "\n",
    "with trace(\"Story Manager\"):\n",
    "    result = await Runner.run(story_manager, email_message)\n",
    "\n",
    "print(result)"
   ]
  },
  {
   "cell_type": "markdown",
   "id": "5b203540",
   "metadata": {},
   "source": [
    "## Handoffs"
   ]
  },
  {
   "cell_type": "code",
   "execution_count": 50,
   "id": "20d1c230",
   "metadata": {},
   "outputs": [],
   "source": [
    "instructions_title = \"\"\"Your task is to create a title for the story. This title should be a short phrase that captures the essence \n",
    "of the story. It's also going to be used as part of the email subject, so it should be catchy and interesting.\n",
    "\"\"\"\n",
    "\n",
    "instructions_html = \"\"\"You can convert the text of the story that you are sending via email to HTML. You are given the text of the story \n",
    "which might have some markdown and you need to convert it to an HTML version with simple, clear, compelling layout and design.\n",
    "\"\"\"\n",
    "\n",
    "title_writer = Agent(\n",
    "    name=\"Story title writer\", \n",
    "    instructions=instructions_title, \n",
    "    model=\"gpt-4o-mini\"\n",
    ")\n",
    "\n",
    "title_tool = title_writer.as_tool(\n",
    "    tool_name=\"title_writer\", \n",
    "    tool_description=\"Write a title for the story\"\n",
    ")\n",
    "\n",
    "html_converter = Agent(\n",
    "    name=\"HTML story text converter\", \n",
    "    instructions=instructions_html, \n",
    "    model=\"gpt-4o-mini\"\n",
    ")\n",
    "\n",
    "html_tool = html_converter.as_tool(\n",
    "    tool_name=\"html_converter\",\n",
    "    tool_description=\"Convert the text email body, which is the story, to an HTML email body\"\n",
    ")"
   ]
  },
  {
   "cell_type": "code",
   "execution_count": 62,
   "id": "42795755",
   "metadata": {},
   "outputs": [],
   "source": [
    "@function_tool\n",
    "def send_html_email(title: str, html_story: str) -> Dict[str, str]:\n",
    "    \"\"\" Send out an email with a specific subject and the story in HTML format using Resend \"\"\"\n",
    "    \n",
    "    # Set up email sender, recipient, and content\n",
    "    from_email = \"onboarding@resend.dev\"  \n",
    "    to_email = \"prospero.apps@gmail.com\"  \n",
    "    \n",
    "    # Resend API headers and payload\n",
    "    headers = {\n",
    "        \"Authorization\": f\"Bearer {RESEND_API_KEY}\",\n",
    "        \"Content-Type\": \"application/json\"\n",
    "    }\n",
    "    \n",
    "    payload = {\n",
    "        \"from\": f\"Prospero <{from_email}>\",\n",
    "        \"to\": [to_email],\n",
    "        \"subject\": f\"Story of the Day - {title}\",\n",
    "        \"html\": html_story\n",
    "    }\n",
    "    \n",
    "    try:\n",
    "        response = requests.post(\"https://api.resend.com/emails\", json=payload, headers=headers)\n",
    "        \n",
    "        if 200 <= response.status_code < 300:\n",
    "            return f\"SUCCESS: Email with content '{html_story}' has been sent successfully to {to_email}. Task completed.\"\n",
    "        else:\n",
    "            return f\"FAILURE: Failed to send email. Error: {response.text}. Do not retry.\"\n",
    "    except Exception as e:\n",
    "        return f\"ERROR: Exception occurred while sending email: {str(e)}. Do not retry.\""
   ]
  },
  {
   "cell_type": "code",
   "execution_count": 63,
   "id": "e669cc60",
   "metadata": {},
   "outputs": [
    {
     "data": {
      "text/plain": [
       "[FunctionTool(name='title_writer', description='Write a title for the story', params_json_schema={'properties': {'input': {'title': 'Input', 'type': 'string'}}, 'required': ['input'], 'title': 'title_writer_args', 'type': 'object', 'additionalProperties': False}, on_invoke_tool=<function function_tool.<locals>._create_function_tool.<locals>._on_invoke_tool at 0x00000182A599F100>, strict_json_schema=True, is_enabled=True),\n",
       " FunctionTool(name='html_converter', description='Convert the text email body, which is the story, to an HTML email body', params_json_schema={'properties': {'input': {'title': 'Input', 'type': 'string'}}, 'required': ['input'], 'title': 'html_converter_args', 'type': 'object', 'additionalProperties': False}, on_invoke_tool=<function function_tool.<locals>._create_function_tool.<locals>._on_invoke_tool at 0x00000182A599E480>, strict_json_schema=True, is_enabled=True),\n",
       " FunctionTool(name='send_html_email', description='Send out an email with a specific subject and the story in HTML format using Resend', params_json_schema={'properties': {'title': {'title': 'Title', 'type': 'string'}, 'html_story': {'title': 'Html Story', 'type': 'string'}}, 'required': ['title', 'html_story'], 'title': 'send_html_email_args', 'type': 'object', 'additionalProperties': False}, on_invoke_tool=<function function_tool.<locals>._create_function_tool.<locals>._on_invoke_tool at 0x00000182A5A0FEC0>, strict_json_schema=True, is_enabled=True)]"
      ]
     },
     "execution_count": 63,
     "metadata": {},
     "output_type": "execute_result"
    }
   ],
   "source": [
    "email_tools = [title_tool, html_tool, send_html_email]\n",
    "email_tools"
   ]
  },
  {
   "cell_type": "code",
   "execution_count": 64,
   "id": "5b4f68a1",
   "metadata": {},
   "outputs": [],
   "source": [
    "instructions_html_story = \"\"\"\n",
    "You are an email formatter and sender. You receive the body of an email to be sent. \n",
    "You first use the title_writer tool to write a subject for the email, then use the html_converter tool to convert the body to HTML. \n",
    "Finally, you use the send_html_email tool to send the email with the subject and HTML body.\n",
    "\"\"\""
   ]
  },
  {
   "cell_type": "code",
   "execution_count": 65,
   "id": "4ef3ddc4",
   "metadata": {},
   "outputs": [],
   "source": [
    "email_agent = Agent(\n",
    "    name=\"Email Manager\",\n",
    "    instructions=instructions_html_story,\n",
    "    tools=email_tools,\n",
    "    model=\"gpt-4o-mini\",\n",
    "    handoff_description=\"Convert an email to HTML and send it\")"
   ]
  },
  {
   "cell_type": "code",
   "execution_count": 79,
   "id": "ee63177f",
   "metadata": {},
   "outputs": [],
   "source": [
    "instructions_email = \"\"\"\n",
    "You are a story teller. Your task is to create a story using the tools given to you. Follow these steps carefully:\n",
    "1. Use the place_tool tool to generate the place the story is set in.\n",
    "2. Use the time_tool tool to generate the time the story is set in.\n",
    "3. Use the characters_tool tool to generate the characters that are featured in the story.\n",
    "4. Use the items_tool tool to generate the items that are are used in the story.\n",
    "5. Use the mood_tool tool to generate the mood of the story.\n",
    "\n",
    "You can use the tools multiple times if you're not satisfied with the results from the first try.\n",
    "\n",
    "After you have all of these, follow these steps to write the story:\n",
    "1. Write what the tools above have generated in the following format, now, VERY, VERY IMPORTANT: \n",
    "write each of the following elements on a separate line and MAKE SURE TO USE THE EXACT SAME FORMAT AS SHOWN HERE:\n",
    "place: here comes the place generated by place_tool,\n",
    "time: here comes the time generated by time_tool,\n",
    "characters: here come the characters generated by characters_tool, separated with commas\n",
    "items: here come the items generated by items_tool, separated with commas\n",
    "mood: here comes the mood generated by mood_tool.\n",
    "Then add two blank lines.\n",
    "2. Write the introduction where you say where and when the story is set and what characters are featured in the story. \n",
    "If there are more than one character, you don't have to introduce them all in this part, some of them may appear later\n",
    "in the story. The introduction should be about 50 words long.\n",
    "3. Write the main part of the story. Think of something interesting that would make a good story. Make sure the mood\n",
    "of the story that was generated before is maintained throughout the story. Also, make sure all the characters and all \n",
    "the items you generated before are used in the story in a sensical way. The story should be consistent. Also, keep in mind\n",
    "the place and time the story is set in. This may influence the chain of events in the story. This part should be between 200\n",
    "and 300 words long.\n",
    "4. Write and ending of the story, but try to make it as unexpected as you can, still keeping it sensical and consistent.\n",
    "Remember to preserve the mood all the time. The ending should be about 50 words long.\n",
    "5. Handoff to the email_agent to format the story to HTML and send it.\n",
    "\n",
    "IMPORTANT INSTRUCTIONS:\n",
    "1. Use the send_email tool exactly once with the provided content\n",
    "2. After calling the tool, check the response\n",
    "3. If the response indicates SUCCESS, say \"Task completed successfully\" and STOP\n",
    "4. If the response indicates FAILURE or ERROR, report the error and STOP\n",
    "5. Do NOT retry failed email sends\n",
    "6. Do NOT call the tool multiple times\n",
    "7. Do NOT ask for confirmation before sending\n",
    "\"\"\""
   ]
  },
  {
   "cell_type": "code",
   "execution_count": 83,
   "id": "c82294a0",
   "metadata": {},
   "outputs": [
    {
     "name": "stdout",
     "output_type": "stream",
     "text": [
      "RunResult:\n",
      "- Last agent: Agent(name=\"Tell Manager\", ...)\n",
      "- Final output (str):\n",
      "    Task completed successfully.\n",
      "- 14 new item(s)\n",
      "- 3 raw response(s)\n",
      "- 0 input guardrail result(s)\n",
      "- 0 output guardrail result(s)\n",
      "(See `RunResult` for more details)\n"
     ]
    }
   ],
   "source": [
    "tell_manager = Agent(\n",
    "    name=\"Tell Manager\",\n",
    "    instructions=instructions_email,\n",
    "    model=\"gpt-4o-mini\",\n",
    "    tools=tools,\n",
    "    handoffs=[email_agent]\n",
    ")\n",
    "\n",
    "email_message = \"Send an email with the subject and HTML body containing the story to the recipient.\"\n",
    "\n",
    "with trace(\"Email Sender\"):\n",
    "    result = await Runner.run(tell_manager, email_message)\n",
    "\n",
    "print(result)"
   ]
  }
 ],
 "metadata": {
  "kernelspec": {
   "display_name": ".venv",
   "language": "python",
   "name": "python3"
  },
  "language_info": {
   "codemirror_mode": {
    "name": "ipython",
    "version": 3
   },
   "file_extension": ".py",
   "mimetype": "text/x-python",
   "name": "python",
   "nbconvert_exporter": "python",
   "pygments_lexer": "ipython3",
   "version": "3.12.11"
  }
 },
 "nbformat": 4,
 "nbformat_minor": 5
}
